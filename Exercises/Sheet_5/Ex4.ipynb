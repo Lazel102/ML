{
 "cells": [
  {
   "cell_type": "code",
   "execution_count": 22,
   "metadata": {},
   "outputs": [],
   "source": [
    "import numpy as np\n"
   ]
  },
  {
   "cell_type": "code",
   "execution_count": 23,
   "metadata": {},
   "outputs": [],
   "source": [
    "df = np.genfromtxt(fname=\"boston.txt\", skip_header=22)"
   ]
  },
  {
   "cell_type": "code",
   "execution_count": 24,
   "metadata": {},
   "outputs": [],
   "source": [
    "def createvariables(df):\n",
    "    X_test=df[0:99, 0:12]\n",
    "    Y_test=df[0:99:, 13]\n",
    "    X_train=df[100:, 0:12]\n",
    "    Y_train=df[100:, 13]\n",
    "    return X_test, X_train, Y_test, Y_train"
   ]
  },
  {
   "cell_type": "code",
   "execution_count": null,
   "metadata": {},
   "outputs": [],
   "source": [
    "def riddgeregression(x_train,y_train,lam):\n",
    "    I=np.eye(x_train.shape[1])\n",
    "    return np.matmul(np.matmul(np.linalg.inv(lam*I+np.matmul(x_train.T,x_train)),x_train.T),y_train)"
   ]
  },
  {
   "cell_type": "code",
   "execution_count": null,
   "metadata": {},
   "outputs": [],
   "source": [
    "def msqe(y_real, y_pre):\n",
    "    n=len(y_real)\n",
    "    result=0\n",
    "    for i in range(n):\n",
    "        result += (y_real[i]-y_pre[i])**2\n",
    "    return result/n"
   ]
  },
  {
   "cell_type": "code",
   "execution_count": null,
   "metadata": {},
   "outputs": [],
   "source": [
    "def ridgeCV(X,y,number_of_folds=5, lambda_grid=[0.001 , 0.1, 1, 10 ,100]):\n",
    "    "
   ]
  },
  {
   "cell_type": "code",
   "execution_count": null,
   "metadata": {},
   "outputs": [],
   "source": [
    "x_test, x_train, y_test,y_train =createvariables(df)"
   ]
  }
 ],
 "metadata": {
  "kernelspec": {
   "display_name": "Python 3",
   "language": "python",
   "name": "python3"
  },
  "language_info": {
   "codemirror_mode": {
    "name": "ipython",
    "version": 3
   },
   "file_extension": ".py",
   "mimetype": "text/x-python",
   "name": "python",
   "nbconvert_exporter": "python",
   "pygments_lexer": "ipython3",
   "version": "3.8.10"
  }
 },
 "nbformat": 4,
 "nbformat_minor": 4
}
