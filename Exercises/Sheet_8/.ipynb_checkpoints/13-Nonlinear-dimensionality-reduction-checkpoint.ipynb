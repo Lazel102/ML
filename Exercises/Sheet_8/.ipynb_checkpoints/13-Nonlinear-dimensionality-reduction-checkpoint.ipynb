{
 "cells": [
  {
   "cell_type": "markdown",
   "metadata": {},
   "source": [
    "# Nonlinear dimensionality reduction\n",
    "\n",
    "\n",
    "## Table of contents\n",
    "* [0. Libraries and helper functions](#libraries)\n",
    "* [1. MDS - multidimensional scaling](#mds)\n",
    "* [2. ISOMAP - swissroll](#isomap)\n",
    "* [3. LLE - local linear embedding](#lle)\n",
    "* [4. MVU - maximum variance unfolding](#mvu)\n",
    "\n",
    "Note that in this notebook the data is given as a matrix of column vectors, i.e.\n",
    "$$ X = [x_1, \\ldots, x_n] \\in \\mathbb{R}^{d\\times n}$$"
   ]
  },
  {
   "cell_type": "markdown",
   "metadata": {},
   "source": [
    "<a class=\"anchor\" id=\"libraries\"></a>\n",
    "## 0. Libraries and helper functions"
   ]
  },
  {
   "cell_type": "code",
   "execution_count": 7,
   "metadata": {},
   "outputs": [],
   "source": [
    "import math\n",
    "import numpy as np\n",
    "import plotly.express as px\n",
    "import plotly.graph_objects as po"
   ]
  },
  {
   "cell_type": "code",
   "execution_count": 8,
   "metadata": {},
   "outputs": [],
   "source": [
    "def what_is(expr_str):\n",
    "    print(expr_str + ' ==')\n",
    "    print(eval(expr_str))"
   ]
  },
  {
   "cell_type": "markdown",
   "metadata": {},
   "source": [
    "\n",
    "<a class=\"anchor\" id=\"mds\"></a>\n",
    "## 1. MDS - Multidimensional Scaling"
   ]
  },
  {
   "cell_type": "code",
   "execution_count": 9,
   "metadata": {},
   "outputs": [],
   "source": [
    "# goal: create a map from a distance table scanned \n",
    "# if I recall correctly, I typed/ocr'ed them from the last page of an old road map\n",
    "cities = ['Aachen', 'Basel', 'Berlin', 'Bremen', 'Dortmund', \n",
    "          'Dresden', 'Duesseldorf', 'Emden', 'Erfurt', \n",
    "          'Flensburg', 'Frankfurt M.', 'Frankfurt O.', \n",
    "          'Garmen-Patenkirchen', 'Goerlitz', 'Hamburg', \n",
    "          'Hannover', 'Kassel', 'Koblenz', 'Koeln', 'Leipzig', \n",
    "          'Mannheim', 'Muenchen', 'Nuernberg', 'Passau', \n",
    "          'Rostock', 'Saarbruecken', 'Salzburg', 'Stuttgart', \n",
    "          'Trier', 'Wiesbaden']\n",
    "scanned_distances = \\\n",
    "'''545\n",
    "650  875\n",
    "370  775 400\n",
    "155  555 495 235\n",
    "645  745 200 490 515\n",
    " 90  550 560 285  70 580\n",
    "375  845 520 140 305 620 290\n",
    "440  585 300 340 310 215 375 470\n",
    "625  980 450 275 490 660 540 400 520\n",
    "255  335 550 445 225 460 225 520 260  650\n",
    "700  940 105 460 560 180 625 590 370  550 610\n",
    "700  370 675 835 700 550 680 930 510 1020 480 470\n",
    "750  840 220 575 610 105 680 700 320  690 560 170 650\n",
    "480  825 300 130 350 500 400 255 370  160 500 385 860 530\n",
    "355  680 290 130 215 385 280 260 220  310 350 350 720 470 155\n",
    "310  525 385 285 165 350 235 390 150  470 200 450 560 450 310 170\n",
    "165  405 600 410 190 510 145 425 310  670 120 660 550 610 520 390 250\n",
    " 75  505 580 315 100 570  40 330 370  570 200 640 650 670 430 300 250 105\n",
    "570  710 190 390 440 115 505 520 140  570 385 255 520 215 440 290 280 440 500\n",
    "290  270 615 515 300 530 280 600 330  725  85 680 410 630 570 430 270 150 250 460\n",
    "650  390 590 750 605 460 610 840 420  930 400 650  90 560 780 630 470 490 580 430 350 \n",
    "470  450 440 585 440 315 445 675 270  795 230 510 260 420 610 470 310 340 410 280 240 170\n",
    "690  580 630 800 660 465 655 890 460  980 440 700 280 570 820 680 520 550 620 470 440 190 220\n",
    "650 1000 230 300 515 440 570 425 490  285 740 325 870 470 180 330 560 690 600 380 810 780 630 820\n",
    "310  265 725 550 330 640 280 560 440  810 200 790 500 740 660 530 380 180 250 570 140 430 370 570 920\n",
    "800  530 735 910 755 605 770 980 580 1080 540 800 180 540 920 780 625 660 720 570 510 150 320 120 940 600\n",
    "420  270 630 630 420 510 410 710 350  810 210 700 300 610 660 520 360 280 370 470 135 230 210 400 820 220 390\n",
    "160  325 715 480 260 635 200 500 430  735 190 780 580 730 590 460 340 140 180 560 180 500 420 620 760 100 700 300\n",
    "230  350 570 430 210 490 200 480 280  680  40 640 500 590 520 380 220  80 170 410 100 430 260 470 760 160 570 220 150'''\n"
   ]
  },
  {
   "cell_type": "code",
   "execution_count": 10,
   "metadata": {},
   "outputs": [
    {
     "name": "stdout",
     "output_type": "stream",
     "text": [
      "[[  0. 545. 650. 370. 155.]\n",
      " [545.   0. 875. 775. 555.]\n",
      " [650. 875.   0. 400. 495.]\n",
      " [370. 775. 400.   0. 235.]\n",
      " [155. 555. 495. 235.   0.]]\n"
     ]
    }
   ],
   "source": [
    "# convert them into a symmetric numpy matrix\n",
    "n = len(cities)\n",
    "D = np.zeros((n, n))\n",
    "rows = scanned_distances.split('\\n')\n",
    "for i in range(n-1):\n",
    "    D[i+1,:i+1] = rows[i].split()\n",
    "D = D + D.T   # symmetrize\n",
    "print(D[:5,:5])"
   ]
  },
  {
   "cell_type": "code",
   "execution_count": 11,
   "metadata": {},
   "outputs": [
    {
     "name": "stdout",
     "output_type": "stream",
     "text": [
      "[0 1 2 3 4]\n"
     ]
    },
    {
     "data": {
      "text/plain": [
       "array([4, 3])"
      ]
     },
     "execution_count": 11,
     "metadata": {},
     "output_type": "execute_result"
    }
   ],
   "source": [
    "# weird indexing that also reverses the ordering in one step (avoiding `flip`)\n",
    "# this is useful to get the last two columns of the matrix of eigenvectors\n",
    "# in the correct ordering\n",
    "a = np.arange(5)\n",
    "print(a)\n",
    "a[:-3:-1]"
   ]
  },
  {
   "cell_type": "code",
   "execution_count": 12,
   "metadata": {},
   "outputs": [
    {
     "ename": "ModuleNotFoundError",
     "evalue": "No module named 'ml_solutions'",
     "output_type": "error",
     "traceback": [
      "\u001b[0;31m---------------------------------------------------------------------------\u001b[0m",
      "\u001b[0;31mModuleNotFoundError\u001b[0m                       Traceback (most recent call last)",
      "\u001b[0;32m<ipython-input-12-a55acf166010>\u001b[0m in \u001b[0;36m<module>\u001b[0;34m\u001b[0m\n\u001b[1;32m      1\u001b[0m \u001b[0;31m# run multi-dimensional scaling\u001b[0m\u001b[0;34m\u001b[0m\u001b[0;34m\u001b[0m\u001b[0;34m\u001b[0m\u001b[0m\n\u001b[0;32m----> 2\u001b[0;31m \u001b[0;32mfrom\u001b[0m \u001b[0mml_solutions\u001b[0m \u001b[0;32mimport\u001b[0m \u001b[0mmds\u001b[0m\u001b[0;34m\u001b[0m\u001b[0;34m\u001b[0m\u001b[0m\n\u001b[0m\u001b[1;32m      3\u001b[0m \u001b[0mx\u001b[0m \u001b[0;34m=\u001b[0m \u001b[0mmds\u001b[0m\u001b[0;34m(\u001b[0m\u001b[0mD\u001b[0m\u001b[0;34m,\u001b[0m \u001b[0;36m2\u001b[0m\u001b[0;34m)\u001b[0m\u001b[0;34m\u001b[0m\u001b[0;34m\u001b[0m\u001b[0m\n\u001b[1;32m      4\u001b[0m \u001b[0mfig\u001b[0m \u001b[0;34m=\u001b[0m \u001b[0mpx\u001b[0m\u001b[0;34m.\u001b[0m\u001b[0mscatter\u001b[0m\u001b[0;34m(\u001b[0m\u001b[0mx\u001b[0m\u001b[0;34m=\u001b[0m\u001b[0mx\u001b[0m\u001b[0;34m[\u001b[0m\u001b[0;36m0\u001b[0m\u001b[0;34m]\u001b[0m\u001b[0;34m,\u001b[0m \u001b[0my\u001b[0m\u001b[0;34m=\u001b[0m\u001b[0mx\u001b[0m\u001b[0;34m[\u001b[0m\u001b[0;36m1\u001b[0m\u001b[0;34m]\u001b[0m\u001b[0;34m,\u001b[0m \u001b[0mtext\u001b[0m\u001b[0;34m=\u001b[0m\u001b[0mcities\u001b[0m\u001b[0;34m,\u001b[0m \u001b[0mtitle\u001b[0m\u001b[0;34m=\u001b[0m\u001b[0;34m'Germany'\u001b[0m\u001b[0;34m)\u001b[0m\u001b[0;34m\u001b[0m\u001b[0;34m\u001b[0m\u001b[0m\n\u001b[1;32m      5\u001b[0m \u001b[0mfig\u001b[0m\u001b[0;34m.\u001b[0m\u001b[0mupdate_yaxes\u001b[0m\u001b[0;34m(\u001b[0m\u001b[0mscaleanchor\u001b[0m \u001b[0;34m=\u001b[0m \u001b[0;34m\"x\"\u001b[0m\u001b[0;34m,\u001b[0m \u001b[0mscaleratio\u001b[0m \u001b[0;34m=\u001b[0m \u001b[0;36m1\u001b[0m\u001b[0;34m)\u001b[0m\u001b[0;34m\u001b[0m\u001b[0;34m\u001b[0m\u001b[0m\n",
      "\u001b[0;31mModuleNotFoundError\u001b[0m: No module named 'ml_solutions'"
     ]
    }
   ],
   "source": [
    "# run multi-dimensional scaling\n",
    "from ml_solutions import mds\n",
    "x = mds(D, 2)\n",
    "fig = px.scatter(x=x[0], y=x[1], text=cities, title='Germany')\n",
    "fig.update_yaxes(scaleanchor = \"x\", scaleratio = 1)\n",
    "fig.update_layout(width=800, height=800)\n",
    "fig.show()"
   ]
  },
  {
   "cell_type": "code",
   "execution_count": 13,
   "metadata": {},
   "outputs": [
    {
     "ename": "NameError",
     "evalue": "name 'x' is not defined",
     "output_type": "error",
     "traceback": [
      "\u001b[0;31m---------------------------------------------------------------------------\u001b[0m",
      "\u001b[0;31mNameError\u001b[0m                                 Traceback (most recent call last)",
      "\u001b[0;32m<ipython-input-13-5e713e2336b0>\u001b[0m in \u001b[0;36m<module>\u001b[0;34m\u001b[0m\n\u001b[1;32m      1\u001b[0m \u001b[0;31m# change the plot a bit\u001b[0m\u001b[0;34m\u001b[0m\u001b[0;34m\u001b[0m\u001b[0;34m\u001b[0m\u001b[0m\n\u001b[0;32m----> 2\u001b[0;31m \u001b[0mfig\u001b[0m \u001b[0;34m=\u001b[0m \u001b[0mpx\u001b[0m\u001b[0;34m.\u001b[0m\u001b[0mscatter\u001b[0m\u001b[0;34m(\u001b[0m\u001b[0mx\u001b[0m\u001b[0;34m=\u001b[0m\u001b[0;34m-\u001b[0m\u001b[0mx\u001b[0m\u001b[0;34m[\u001b[0m\u001b[0;36m1\u001b[0m\u001b[0;34m]\u001b[0m\u001b[0;34m,\u001b[0m \u001b[0my\u001b[0m\u001b[0;34m=\u001b[0m\u001b[0;34m-\u001b[0m\u001b[0mx\u001b[0m\u001b[0;34m[\u001b[0m\u001b[0;36m0\u001b[0m\u001b[0;34m]\u001b[0m\u001b[0;34m,\u001b[0m \u001b[0mtext\u001b[0m\u001b[0;34m=\u001b[0m\u001b[0mcities\u001b[0m\u001b[0;34m,\u001b[0m \u001b[0mtitle\u001b[0m\u001b[0;34m=\u001b[0m\u001b[0;34m'Germany'\u001b[0m\u001b[0;34m)\u001b[0m\u001b[0;34m\u001b[0m\u001b[0;34m\u001b[0m\u001b[0m\n\u001b[0m\u001b[1;32m      3\u001b[0m \u001b[0mfig\u001b[0m\u001b[0;34m.\u001b[0m\u001b[0mupdate_yaxes\u001b[0m\u001b[0;34m(\u001b[0m\u001b[0mscaleanchor\u001b[0m \u001b[0;34m=\u001b[0m \u001b[0;34m\"x\"\u001b[0m\u001b[0;34m,\u001b[0m \u001b[0mscaleratio\u001b[0m \u001b[0;34m=\u001b[0m \u001b[0;36m1\u001b[0m\u001b[0;34m)\u001b[0m\u001b[0;34m\u001b[0m\u001b[0;34m\u001b[0m\u001b[0m\n\u001b[1;32m      4\u001b[0m \u001b[0mfig\u001b[0m\u001b[0;34m.\u001b[0m\u001b[0mupdate_layout\u001b[0m\u001b[0;34m(\u001b[0m\u001b[0mwidth\u001b[0m\u001b[0;34m=\u001b[0m\u001b[0;36m800\u001b[0m\u001b[0;34m,\u001b[0m \u001b[0mheight\u001b[0m\u001b[0;34m=\u001b[0m\u001b[0;36m800\u001b[0m\u001b[0;34m)\u001b[0m\u001b[0;34m\u001b[0m\u001b[0;34m\u001b[0m\u001b[0m\n\u001b[1;32m      5\u001b[0m \u001b[0mfig\u001b[0m\u001b[0;34m.\u001b[0m\u001b[0mshow\u001b[0m\u001b[0;34m(\u001b[0m\u001b[0;34m)\u001b[0m\u001b[0;34m\u001b[0m\u001b[0;34m\u001b[0m\u001b[0m\n",
      "\u001b[0;31mNameError\u001b[0m: name 'x' is not defined"
     ]
    }
   ],
   "source": [
    "# change the plot a bit\n",
    "fig = px.scatter(x=-x[1], y=-x[0], text=cities, title='Germany')\n",
    "fig.update_yaxes(scaleanchor = \"x\", scaleratio = 1)\n",
    "fig.update_layout(width=800, height=800)\n",
    "fig.show()"
   ]
  },
  {
   "cell_type": "markdown",
   "metadata": {},
   "source": [
    "<a class=\"anchor\" id=\"isomap\"></a>\n",
    "## 2.1 ISOMAP - swissroll"
   ]
  },
  {
   "cell_type": "code",
   "execution_count": 14,
   "metadata": {},
   "outputs": [
    {
     "name": "stdout",
     "output_type": "stream",
     "text": [
      "[[ 0  1  2  3  4]\n",
      " [ 5  6  7  8  9]\n",
      " [10 11 12 13 14]]\n",
      "[[1 4]\n",
      " [0 2]\n",
      " [0 4]]\n",
      "[[  0 100   2   3 100]\n",
      " [100   6 100   8   9]\n",
      " [100  11  12  13 100]]\n"
     ]
    }
   ],
   "source": [
    "# some advanced slicing with numpy \n",
    "# (we use this in our loop-free implementation of knn_graph)\n",
    "a = np.arange(15).reshape(3,5)\n",
    "b = np.array([[1,4],[0,2],[0,4]])\n",
    "c = np.arange(3).reshape(3,1)\n",
    "print(a)\n",
    "print(b)\n",
    "a[c,b]= 100\n",
    "print(a)"
   ]
  },
  {
   "cell_type": "code",
   "execution_count": 15,
   "metadata": {},
   "outputs": [
    {
     "ename": "ModuleNotFoundError",
     "evalue": "No module named 'ml_solutions'",
     "output_type": "error",
     "traceback": [
      "\u001b[0;31m---------------------------------------------------------------------------\u001b[0m",
      "\u001b[0;31mModuleNotFoundError\u001b[0m                       Traceback (most recent call last)",
      "\u001b[0;32m<ipython-input-15-a1fb6a7108d7>\u001b[0m in \u001b[0;36m<module>\u001b[0;34m\u001b[0m\n\u001b[1;32m      1\u001b[0m \u001b[0;31m# neighborhood graphs\u001b[0m\u001b[0;34m\u001b[0m\u001b[0;34m\u001b[0m\u001b[0;34m\u001b[0m\u001b[0m\n\u001b[0;32m----> 2\u001b[0;31m \u001b[0;32mfrom\u001b[0m \u001b[0mml_solutions\u001b[0m \u001b[0;32mimport\u001b[0m \u001b[0mdistances\u001b[0m\u001b[0;34m,\u001b[0m \u001b[0mknn_graph\u001b[0m\u001b[0;34m,\u001b[0m \u001b[0meps_graph\u001b[0m\u001b[0;34m\u001b[0m\u001b[0;34m\u001b[0m\u001b[0m\n\u001b[0m\u001b[1;32m      3\u001b[0m \u001b[0;31m# test code\u001b[0m\u001b[0;34m\u001b[0m\u001b[0;34m\u001b[0m\u001b[0;34m\u001b[0m\u001b[0m\n\u001b[1;32m      4\u001b[0m \u001b[0mx\u001b[0m \u001b[0;34m=\u001b[0m \u001b[0mnp\u001b[0m\u001b[0;34m.\u001b[0m\u001b[0marange\u001b[0m\u001b[0;34m(\u001b[0m\u001b[0;36m10\u001b[0m\u001b[0;34m)\u001b[0m\u001b[0;34m.\u001b[0m\u001b[0mreshape\u001b[0m\u001b[0;34m(\u001b[0m\u001b[0;36m1\u001b[0m\u001b[0;34m,\u001b[0m\u001b[0;36m10\u001b[0m\u001b[0;34m)\u001b[0m\u001b[0;34m\u001b[0m\u001b[0;34m\u001b[0m\u001b[0m\n\u001b[1;32m      5\u001b[0m \u001b[0mD\u001b[0m \u001b[0;34m=\u001b[0m \u001b[0mdistances\u001b[0m\u001b[0;34m(\u001b[0m\u001b[0mx\u001b[0m\u001b[0;34m)\u001b[0m\u001b[0;34m\u001b[0m\u001b[0;34m\u001b[0m\u001b[0m\n",
      "\u001b[0;31mModuleNotFoundError\u001b[0m: No module named 'ml_solutions'"
     ]
    }
   ],
   "source": [
    "# neighborhood graphs\n",
    "from ml_solutions import distances, knn_graph, eps_graph\n",
    "# test code\n",
    "x = np.arange(10).reshape(1,10)\n",
    "D = distances(x)\n",
    "what_is('distances(x)')\n",
    "what_is('knn_graph(D, 2)')\n",
    "what_is('knn_graph(D, 4)')\n",
    "what_is('eps_graph(D, 0.5)')\n",
    "what_is('eps_graph(D, 1.1)')\n",
    "what_is('eps_graph(D, 2.1)')"
   ]
  },
  {
   "cell_type": "code",
   "execution_count": 16,
   "metadata": {},
   "outputs": [
    {
     "ename": "ModuleNotFoundError",
     "evalue": "No module named 'ml_solutions'",
     "output_type": "error",
     "traceback": [
      "\u001b[0;31m---------------------------------------------------------------------------\u001b[0m",
      "\u001b[0;31mModuleNotFoundError\u001b[0m                       Traceback (most recent call last)",
      "\u001b[0;32m<ipython-input-16-4adefe94808b>\u001b[0m in \u001b[0;36m<module>\u001b[0;34m\u001b[0m\n\u001b[1;32m      1\u001b[0m \u001b[0;31m# all pairs-shortest paths\u001b[0m\u001b[0;34m\u001b[0m\u001b[0;34m\u001b[0m\u001b[0;34m\u001b[0m\u001b[0m\n\u001b[0;32m----> 2\u001b[0;31m \u001b[0;32mfrom\u001b[0m \u001b[0mml_solutions\u001b[0m \u001b[0;32mimport\u001b[0m \u001b[0mfloyd_warshall\u001b[0m\u001b[0;34m\u001b[0m\u001b[0;34m\u001b[0m\u001b[0m\n\u001b[0m\u001b[1;32m      3\u001b[0m \u001b[0;31m# test code\u001b[0m\u001b[0;34m\u001b[0m\u001b[0;34m\u001b[0m\u001b[0;34m\u001b[0m\u001b[0m\n\u001b[1;32m      4\u001b[0m \u001b[0mx\u001b[0m \u001b[0;34m=\u001b[0m \u001b[0mnp\u001b[0m\u001b[0;34m.\u001b[0m\u001b[0marange\u001b[0m\u001b[0;34m(\u001b[0m\u001b[0;36m10\u001b[0m\u001b[0;34m)\u001b[0m\u001b[0;34m.\u001b[0m\u001b[0mreshape\u001b[0m\u001b[0;34m(\u001b[0m\u001b[0;36m1\u001b[0m\u001b[0;34m,\u001b[0m\u001b[0;36m10\u001b[0m\u001b[0;34m)\u001b[0m\u001b[0;34m\u001b[0m\u001b[0;34m\u001b[0m\u001b[0m\n\u001b[1;32m      5\u001b[0m \u001b[0mD\u001b[0m \u001b[0;34m=\u001b[0m \u001b[0mdistances\u001b[0m\u001b[0;34m(\u001b[0m\u001b[0mx\u001b[0m\u001b[0;34m)\u001b[0m\u001b[0;34m**\u001b[0m\u001b[0;36m2\u001b[0m\u001b[0;34m\u001b[0m\u001b[0;34m\u001b[0m\u001b[0m\n",
      "\u001b[0;31mModuleNotFoundError\u001b[0m: No module named 'ml_solutions'"
     ]
    }
   ],
   "source": [
    "# all pairs-shortest paths\n",
    "from ml_solutions import floyd_warshall\n",
    "# test code\n",
    "x = np.arange(10).reshape(1,10)\n",
    "D = distances(x)**2\n",
    "W = knn_graph(D, 3)\n",
    "what_is('floyd_warshall(W, 2)')\n",
    "x = np.random.randn(3,4)\n",
    "W = knn_graph(distances(x), 2)\n",
    "what_is('floyd_warshall(W, 3)')\n",
    "what_is('floyd_warshall(W, 2)')"
   ]
  },
  {
   "cell_type": "code",
   "execution_count": null,
   "metadata": {},
   "outputs": [],
   "source": [
    "# generate the swiss roll dataset\n",
    "def swissroll(n=1000, evenly_sampled=True):\n",
    "    z = np.random.rand(2, n)\n",
    "    if evenly_sampled:\n",
    "        z[0] = np.sqrt(z[0])\n",
    "    z = 3 * math.pi * z\n",
    "    r = z[0] + 1.0\n",
    "    x = np.vstack([r*np.cos(z[0]), \n",
    "                   r*np.sin(z[0]), \n",
    "                   z[1]])\n",
    "    return x, z\n",
    "x, z = swissroll()\n",
    "px.scatter_3d(x=x[0], y=x[1], z=x[2], color=z[0], \n",
    "              color_continuous_scale=px.colors.sequential.Rainbow)"
   ]
  },
  {
   "cell_type": "code",
   "execution_count": null,
   "metadata": {},
   "outputs": [],
   "source": [
    "# see also https://plotly.com/python/network-graphs/\n",
    "def plot_graph(x, W, color=None):\n",
    "    n = W.shape[0]\n",
    "    edges_x, edges_y = [], []\n",
    "    for i in range(n):\n",
    "        for j in range(i):\n",
    "            if 0 < W[i,j] < np.infty:\n",
    "                edges_x.extend([x[0,i], x[0,j], None])\n",
    "                edges_y.extend([x[1,i], x[1,j], None])\n",
    "    edges_trace = po.Scatter(x=edges_x, y=edges_y, mode='lines')\n",
    "    nodes_trace = po.Scatter(x=x[0],    y=x[1],    mode='markers', \n",
    "                             marker=dict(color=color, size=5.0))\n",
    "    return po.Figure(data=[edges_trace, nodes_trace])\n",
    "def plot_graph_3d(x, W, color=None):\n",
    "    n = W.shape[0]\n",
    "    edges_x, edges_y, edges_z = [], [], []\n",
    "    for i in range(n):\n",
    "        for j in range(i):\n",
    "            if 0 < W[i,j] < np.infty:\n",
    "                edges_x.extend([x[0,i], x[0,j], None])\n",
    "                edges_y.extend([x[1,i], x[1,j], None])\n",
    "                edges_z.extend([x[2,i], x[2,j], None])\n",
    "    edges_trace = po.Scatter3d(x=edges_x, y=edges_y, z=edges_z, mode='lines')\n",
    "    nodes_trace = po.Scatter3d(x=x[0],    y=x[1],    z=x[2],    mode='markers', \n",
    "                               marker=dict(color=color, size=5.0))\n",
    "    return po.Figure(data=[edges_trace, nodes_trace])"
   ]
  },
  {
   "cell_type": "code",
   "execution_count": null,
   "metadata": {},
   "outputs": [],
   "source": [
    "n = 400\n",
    "x, z = swissroll(n)\n",
    "W = knn_graph(distances(x), 10)\n",
    "#W = eps_graph(distances_sq(x), 2.0)\n",
    "plot_graph_3d(x, W, z[0])"
   ]
  },
  {
   "cell_type": "code",
   "execution_count": null,
   "metadata": {},
   "outputs": [],
   "source": [
    "from ml_solutions import isomap"
   ]
  },
  {
   "cell_type": "code",
   "execution_count": null,
   "metadata": {},
   "outputs": [],
   "source": [
    "# test code for profiling\n",
    "# see https://jakevdp.github.io/PythonDataScienceHandbook/01.07-timing-and-profiling.html\n",
    "#x = np.random.randn(2, 500)\n",
    "#%prun y, W, DD = isomap(x, d=2, k=10)"
   ]
  },
  {
   "cell_type": "code",
   "execution_count": null,
   "metadata": {
    "scrolled": false
   },
   "outputs": [],
   "source": [
    "n = 100\n",
    "x, z = swissroll(n)\n",
    "k = 20\n",
    "plot_graph_3d(x, knn_graph(distances(x), k), z[0]).show()\n",
    "y, W, DD = isomap(x, d=2, k=k)\n",
    "px.scatter(x=y[0], y=y[1], color=z[0])"
   ]
  },
  {
   "cell_type": "markdown",
   "metadata": {},
   "source": [
    "<a class=\"anchor\" id=\"lle\"></a>\n",
    "## 3. LLE - Local Linear Embedding"
   ]
  },
  {
   "cell_type": "code",
   "execution_count": null,
   "metadata": {},
   "outputs": [],
   "source": [
    "n = 200\n",
    "x, z = swissroll(200)"
   ]
  },
  {
   "cell_type": "code",
   "execution_count": null,
   "metadata": {},
   "outputs": [],
   "source": [
    "# based on Sam Roweis implementation\n",
    "# from https://cs.nyu.edu/~roweis/lle/code.html\n",
    "def lle(x, d=2, k=9):\n",
    "    # 1. find nearest neighbors\n",
    "    d, n = x.shape[0], x.shape[1]\n",
    "    dist = distances(x)       # non-squared distances\n",
    "    dist.flat[::n+1] = np.infty  # you are not your neighbor!\n",
    "    knn = dist.argpartition(k-1, axis=1)[:,:k]\n",
    "    W = np.zeros((n,n))\n",
    "    for i in range(n):\n",
    "        W[i,knn[i]] = dist[i,knn[i]]\n",
    "    plot_graph(x, W).show()\n",
    "    # 2. solve for reconstruction weights\n",
    "    if k>d:\n",
    "        print('note: since k>d we regularize')\n",
    "        tol = 1.0e-3\n",
    "    else:\n",
    "        tol = 0.0\n",
    "    W = np.zeros((n, n))\n",
    "    for i in range(n):\n",
    "        z = x[:,knn[i]] - x[:,i].reshape(d, 1)\n",
    "        C = z.T @ z\n",
    "        C = C + np.eye(k)*tol*np.trace(C)\n",
    "        w = np.linalg.solve(C, np.ones(k))\n",
    "        W[i,knn[i]] = w / w.sum()\n",
    "    # 3. compute embedding coordinates\n",
    "    M = (np.eye(n) - W).T @ (np.eye(n) - W)\n",
    "    Lambda, V = np.linalg.eigh(M)\n",
    "    y = V[:,1:3].T * np.sqrt(n)\n",
    "    return y, W\n",
    "y, W = lle(x, d=2, k=9)\n",
    "plot_graph_3d(x, W).show()   # check the graph\n",
    "px.scatter(x=y[0], y=y[1], color=z[0])"
   ]
  },
  {
   "cell_type": "markdown",
   "metadata": {},
   "source": [
    "<a class=\"anchor\" id=\"mvu\"></a>\n",
    "## 4. MVU - maximum variance unfolding"
   ]
  },
  {
   "cell_type": "markdown",
   "metadata": {},
   "source": [
    "STILL MISSING"
   ]
  },
  {
   "cell_type": "code",
   "execution_count": null,
   "metadata": {},
   "outputs": [],
   "source": [
    "np.diag(np.diag(np.random.rand(5,5)))"
   ]
  },
  {
   "cell_type": "code",
   "execution_count": null,
   "metadata": {},
   "outputs": [],
   "source": []
  }
 ],
 "metadata": {
  "@webio": {
   "lastCommId": null,
   "lastKernelId": null
  },
  "kernelspec": {
   "display_name": "Python 3",
   "language": "python",
   "name": "python3"
  },
  "language_info": {
   "codemirror_mode": {
    "name": "ipython",
    "version": 3
   },
   "file_extension": ".py",
   "mimetype": "text/x-python",
   "name": "python",
   "nbconvert_exporter": "python",
   "pygments_lexer": "ipython3",
   "version": "3.8.10"
  }
 },
 "nbformat": 4,
 "nbformat_minor": 5
}
