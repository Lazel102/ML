{
 "cells": [
  {
   "cell_type": "markdown",
   "metadata": {},
   "source": [
    "# Probability of wearing glasses\n",
    "Written 2021-10-19 by Stefan Harmeling\n",
    "\n",
    "Based on really nice example from Philipp Hennig, 2014."
   ]
  },
  {
   "cell_type": "code",
   "execution_count": null,
   "metadata": {},
   "outputs": [],
   "source": [
    "from numpy             import linspace\n",
    "from scipy.special     import beta as beta_fn  # beta function\n",
    "from scipy.stats       import beta             # beta distribution\n",
    "from plotly.subplots   import make_subplots\n",
    "from plotly.graph_objs import FigureWidget\n",
    "from ipywidgets        import interact, Button, Text, Layout, HBox"
   ]
  },
  {
   "cell_type": "markdown",
   "metadata": {},
   "source": [
    "## Beta distribution"
   ]
  },
  {
   "cell_type": "code",
   "execution_count": null,
   "metadata": {},
   "outputs": [],
   "source": [
    "# implement the PDF of the Beta distribution\n",
    "def beta_pdf(x, a, b):\n",
    "    return (x**(a-1)) * ((1-x)**(b-1)) / beta_fn(a, b)"
   ]
  },
  {
   "cell_type": "code",
   "execution_count": null,
   "metadata": {},
   "outputs": [],
   "source": [
    "# compare my implementation with the scipy one by plotting it\n",
    "x  = linspace(0, 1, 100)\n",
    "a  = 7.0\n",
    "b  = 3.0\n",
    "f1 = make_subplots(rows=1, cols=2, shared_yaxes=True,\n",
    "                   subplot_titles=(\"beta_pdf(x, a, b)\", \"scipy.stats.beta.pdf(x, a, b)\"))\n",
    "f1.add_scatter(x=x, y=beta_pdf(x, a, b), row=1, col=1)\n",
    "f1.add_scatter(x=x, y=beta.pdf(x, a, b), row=1, col=2)\n",
    "display(f1)"
   ]
  },
  {
   "cell_type": "code",
   "execution_count": null,
   "metadata": {},
   "outputs": [],
   "source": [
    "# interactively show the density\n",
    "x = linspace(0, 1, 100)\n",
    "a, b = 1.0, 1.0\n",
    "f2 = FigureWidget()  # create a figure that can be updated\n",
    "f2.add_scatter(x=x, y=beta.pdf(x, a, b))\n",
    "@interact(a=(0.01, 20.0, 0.1), b=(0.01, 20.0, 0.1))\n",
    "def update(a=1.0, b=1.0):\n",
    "    s = (f\"mean = {a/(a+b)}, \"\n",
    "         f\"variance = {a*b/(a+b+1)/((a+b)**2)}\")\n",
    "    f2.update_layout(title={'text': s})\n",
    "    f2.data[0].y = beta.pdf(x, a, b)\n",
    "display(f2)"
   ]
  },
  {
   "cell_type": "markdown",
   "metadata": {},
   "source": [
    "## Wearing glasses demo\n",
    "\n",
    "The probability of wearing glasses is represented by random variable $Y$, which is `y` in the code. The observations are represented as random variables $X_1$, $X_2$, \\ldots  In the implementation uses buttons for the observations.  The counting is done by string-typed `t0.value` and `t1.value`."
   ]
  },
  {
   "cell_type": "code",
   "execution_count": null,
   "metadata": {},
   "outputs": [],
   "source": [
    "y = linspace(0, 1, 100)     # possible values of RV Y\n",
    "a_prior, b_prior = 1.0, 1.0 # prior parameters\n",
    "f3 = FigureWidget()    # create a figure that can be updated\n",
    "f3.add_scatter(x=y, y=beta.pdf(y, a_prior, b_prior))\n",
    "def update(t0_inc=False, t1_inc=False, reset=False):\n",
    "    if t0_inc: t0.value = str(float(t0.value)+1)\n",
    "    if t1_inc: t1.value = str(float(t1.value)+1)\n",
    "    if reset:  t0.value, t1.value = \"0\", \"0\"\n",
    "    try:\n",
    "        b = b_prior + float(t0.value)\n",
    "    except ValueError:\n",
    "        b, t0.value, b = b_prior, \"0\"\n",
    "    try:\n",
    "        a = a_prior + float(t1.value)\n",
    "    except ValueError:\n",
    "        a, t1.value = a_prior, \"0\"\n",
    "    s = (f\"b = {b}, a = {a}, \"\n",
    "         f\"mean = {a/(a+b)}, \"\n",
    "         f\"variance = {a*b/(a+b+1)/((a+b)**2)}\")\n",
    "    f3.update_layout(title={'text': s})\n",
    "    f3.data[0].y = beta.pdf(y, a, b)\n",
    "b0 = Button(description='w/o glasses',  layout=Layout(width='20%'))\n",
    "b1 = Button(description='with glasses', layout=Layout(width='20%'))\n",
    "re = Button(description='RESET',        layout=Layout(width='40%'))\n",
    "b0.on_click(lambda dummy: update(t0_inc=True))\n",
    "b1.on_click(lambda dummy: update(t1_inc=True))\n",
    "re.on_click(lambda dummy: update(reset=True))\n",
    "t0 = Text(str(0),                       layout=Layout(width= '8%'))\n",
    "t1 = Text(str(0),                       layout=Layout(width= '8%'))\n",
    "t0.on_submit(lambda dummy: update())\n",
    "t1.on_submit(lambda dummy: update())\n",
    "update()          # to get the initial title correct\n",
    "display(f3, HBox([b0, t0, re, t1, b1]))"
   ]
  },
  {
   "cell_type": "code",
   "execution_count": null,
   "metadata": {},
   "outputs": [],
   "source": []
  }
 ],
 "metadata": {
  "kernelspec": {
   "display_name": "Python 3",
   "language": "python",
   "name": "python3"
  },
  "language_info": {
   "codemirror_mode": {
    "name": "ipython",
    "version": 3
   },
   "file_extension": ".py",
   "mimetype": "text/x-python",
   "name": "python",
   "nbconvert_exporter": "python",
   "pygments_lexer": "ipython3",
   "version": "3.8.10"
  }
 },
 "nbformat": 4,
 "nbformat_minor": 5
}
