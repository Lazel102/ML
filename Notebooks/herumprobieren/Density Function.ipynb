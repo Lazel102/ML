{
 "cells": [
  {
   "cell_type": "code",
   "execution_count": 4,
   "metadata": {},
   "outputs": [],
   "source": [
    "import math\n",
    "import seaborn as sb, numpy as np\n",
    "from scipy.stats import binom"
   ]
  },
  {
   "cell_type": "code",
   "execution_count": 8,
   "metadata": {},
   "outputs": [
    {
     "name": "stdout",
     "output_type": "stream",
     "text": [
      "[15 17 14 19 16 16 19 17 18 15 14 12 15 19 17 15 16 18 15 15 15 17 17 15\n",
      " 14 14 17 14 17 15 15 17 16 18 17 16 18 18 15 19 17 19 15 18 18 16 16 14\n",
      " 17 16 16 16 16 15 15 16 17 17 17 15 19 16 17 18 17 16 18 17 17 17 15 10\n",
      " 18 19 16 15 18 16 15 17 17 17 17 14 18 14 15 18 15 15 15 15 15 15 18 14\n",
      " 16 15 14 17]\n"
     ]
    }
   ],
   "source": [
    "data_binom = binom.rvs(n=20,p=0.8,loc=0,size=100)\n",
    "print(data_binom)\n"
   ]
  },
  {
   "cell_type": "code",
   "execution_count": null,
   "metadata": {},
   "outputs": [],
   "source": []
  }
 ],
 "metadata": {
  "kernelspec": {
   "display_name": "Python 3",
   "language": "python",
   "name": "python3"
  },
  "language_info": {
   "codemirror_mode": {
    "name": "ipython",
    "version": 3
   },
   "file_extension": ".py",
   "mimetype": "text/x-python",
   "name": "python",
   "nbconvert_exporter": "python",
   "pygments_lexer": "ipython3",
   "version": "3.8.10"
  }
 },
 "nbformat": 4,
 "nbformat_minor": 4
}
